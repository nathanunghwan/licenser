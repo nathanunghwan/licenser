{
 "cells": [
  {
   "cell_type": "code",
   "execution_count": 210,
   "id": "f07c8f34",
   "metadata": {},
   "outputs": [],
   "source": [
    "# Import \n",
    "from splinter import Browser\n",
    "from bs4 import BeautifulSoup as soup\n",
    "import pandas as pd\n",
    "from webdriver_manager.chrome import ChromeDriverManager\n",
    "import time"
   ]
  },
  {
   "cell_type": "code",
   "execution_count": 211,
   "id": "6ba3ab1e",
   "metadata": {},
   "outputs": [],
   "source": [
    "# Set the executable path and initialize Splinter\n",
    "executable_path = {'executable_path': ChromeDriverManager().install()}\n",
    "browser = Browser('chrome', **executable_path, headless=False)\n",
    "time.sleep(20)"
   ]
  },
  {
   "cell_type": "markdown",
   "id": "29888257",
   "metadata": {},
   "source": [
    "# Step 1 - Scraping"
   ]
  },
  {
   "cell_type": "markdown",
   "id": "e0d1f139",
   "metadata": {},
   "source": [
    "## NASA Mars News\n",
    "- Scrape the Mars News Site and collect the latest News Title and Paragraph Text. Assign the text to variables that you can reference later."
   ]
  },
  {
   "cell_type": "code",
   "execution_count": 214,
   "id": "d6b2a302",
   "metadata": {},
   "outputs": [],
   "source": [
    "\n",
    "\n",
    "# Visit the mars nasa news site\n",
    "#url = 'https://www.sircon.com/index.jsp/'\n",
    "url= 'https://www.sircon.com/ComplianceExpress/Inquiry/consumerInquiry.do?nonSscrb=Y'\n",
    "#url = 'https://www.sircon.com/ComplianceExpress/Inquiries/index.jsp?nonSscrb=Y&sscrbid=9999'\n",
    "#url = 'https://www.sircon.com/ComplianceExpress/Inquiries/StsInq.jsp?entTypeCd=IL&srvcTypeCd=ILSTSQ'\n",
    "browser.visit(url)\n",
    "time.sleep(20)\n",
    "# Delay for loading the page\n",
    "#browser.is_element_present_by_css('div.list_text', wait_time=1)"
   ]
  },
  {
   "cell_type": "code",
   "execution_count": 215,
   "id": "27e6f338",
   "metadata": {},
   "outputs": [],
   "source": [
    "# Convert the browser html to a soup object and find the latest title\n",
    "element = browser.find_option_by_text('Georgia').first.click()\n",
    "#element.click()\n",
    "\n",
    "#browser.links.find_by_partial_text('Individual')[0].click()\n",
    "# tit_par_elem = news_soup.select_one('div.list_text')\n",
    "# tit_par_elem.find('div', class_='content_title')\n",
    "# news_title = tit_par_elem.find('div', class_='content_title').get_text()\n",
    "# news_title"
   ]
  },
  {
   "cell_type": "code",
   "execution_count": 219,
   "id": "99b7d8b1",
   "metadata": {},
   "outputs": [],
   "source": [
    "#indiviual select\n",
    "time.sleep(5)\n",
    "type_element = browser.find_by_xpath('//*[@id=\"entityTypes\"]/div[2]/input[2]').first\n",
    "type_element.click()"
   ]
  },
  {
   "cell_type": "code",
   "execution_count": 220,
   "id": "fbb4e73e",
   "metadata": {},
   "outputs": [],
   "source": [
    "#input name\n",
    "# input_name=browser.find_by_xpath('//*[@id=\"individualInputGroup\"]/div[2]/input')\n",
    "\n",
    "# browser.fill('inquiriesInputText','John')\n",
    "alpa_list=[a,b,c,d,e,f,g,h,i,j,k,l,m,n,o,p,q,r,s,t,u,v,w,x,y,z]\n",
    "for i in alpa_list:\n",
    "    for j in alpa_list:\n",
    "        name_city=i+j\n",
    "input_element = browser.find_by_name('lastName')\n",
    "\n",
    "input_element.fill('kim')\n",
    "time.sleep(5)"
   ]
  },
  {
   "cell_type": "code",
   "execution_count": 221,
   "id": "3ad91c66",
   "metadata": {},
   "outputs": [],
   "source": [
    "#input city\n",
    "\n",
    "input_element = browser.find_by_name('city')\n",
    "input_element.fill('su')\n"
   ]
  },
  {
   "cell_type": "code",
   "execution_count": 241,
   "id": "935db217",
   "metadata": {},
   "outputs": [
    {
     "ename": "ElementDoesNotExist",
     "evalue": "no elements could be found with xpath \"//*[@id=\"border\"]/form[3]/div[6]/div[3]/select/option[21]\"",
     "output_type": "error",
     "traceback": [
      "\u001b[0;31m---------------------------------------------------------------------------\u001b[0m",
      "\u001b[0;31mIndexError\u001b[0m                                Traceback (most recent call last)",
      "\u001b[0;32m/opt/anaconda3/envs/PythonData/lib/python3.9/site-packages/splinter/element_list.py\u001b[0m in \u001b[0;36m__getitem__\u001b[0;34m(self, index)\u001b[0m\n\u001b[1;32m     39\u001b[0m         \u001b[0;32mtry\u001b[0m\u001b[0;34m:\u001b[0m\u001b[0;34m\u001b[0m\u001b[0;34m\u001b[0m\u001b[0m\n\u001b[0;32m---> 40\u001b[0;31m             \u001b[0;32mreturn\u001b[0m \u001b[0mself\u001b[0m\u001b[0;34m.\u001b[0m\u001b[0m_container\u001b[0m\u001b[0;34m[\u001b[0m\u001b[0mindex\u001b[0m\u001b[0;34m]\u001b[0m\u001b[0;34m\u001b[0m\u001b[0;34m\u001b[0m\u001b[0m\n\u001b[0m\u001b[1;32m     41\u001b[0m         \u001b[0;32mexcept\u001b[0m \u001b[0mIndexError\u001b[0m\u001b[0;34m:\u001b[0m\u001b[0;34m\u001b[0m\u001b[0;34m\u001b[0m\u001b[0m\n",
      "\u001b[0;31mIndexError\u001b[0m: list index out of range",
      "\nDuring handling of the above exception, another exception occurred:\n",
      "\u001b[0;31mElementDoesNotExist\u001b[0m                       Traceback (most recent call last)",
      "\u001b[0;32m/var/folders/vl/20l4_0ts07bb1xtx5wc99wjm0000gn/T/ipykernel_80150/500953579.py\u001b[0m in \u001b[0;36m<module>\u001b[0;34m\u001b[0m\n\u001b[1;32m      1\u001b[0m \u001b[0;31m#license type\u001b[0m\u001b[0;34m\u001b[0m\u001b[0;34m\u001b[0m\u001b[0m\n\u001b[0;32m----> 2\u001b[0;31m \u001b[0mlicense_element\u001b[0m \u001b[0;34m=\u001b[0m \u001b[0mbrowser\u001b[0m\u001b[0;34m.\u001b[0m\u001b[0mfind_by_xpath\u001b[0m\u001b[0;34m(\u001b[0m\u001b[0;34m'//*[@id=\"border\"]/form[3]/div[6]/div[3]/select/option[21]'\u001b[0m\u001b[0;34m)\u001b[0m\u001b[0;34m.\u001b[0m\u001b[0mfirst\u001b[0m\u001b[0;34m\u001b[0m\u001b[0;34m\u001b[0m\u001b[0m\n\u001b[0m\u001b[1;32m      3\u001b[0m \u001b[0mlicense_element\u001b[0m\u001b[0;34m.\u001b[0m\u001b[0mclick\u001b[0m\u001b[0;34m(\u001b[0m\u001b[0;34m)\u001b[0m\u001b[0;34m\u001b[0m\u001b[0;34m\u001b[0m\u001b[0m\n",
      "\u001b[0;32m/opt/anaconda3/envs/PythonData/lib/python3.9/site-packages/splinter/element_list.py\u001b[0m in \u001b[0;36mfirst\u001b[0;34m(self)\u001b[0m\n\u001b[1;32m     54\u001b[0m             \u001b[0;34m>>\u001b[0m\u001b[0;34m>\u001b[0m \u001b[0;32massert\u001b[0m \u001b[0melement_list\u001b[0m\u001b[0;34m[\u001b[0m\u001b[0;36m0\u001b[0m\u001b[0;34m]\u001b[0m \u001b[0;34m==\u001b[0m \u001b[0melement_list\u001b[0m\u001b[0;34m.\u001b[0m\u001b[0mfirst\u001b[0m\u001b[0;34m\u001b[0m\u001b[0;34m\u001b[0m\u001b[0m\n\u001b[1;32m     55\u001b[0m         \"\"\"\n\u001b[0;32m---> 56\u001b[0;31m         \u001b[0;32mreturn\u001b[0m \u001b[0mself\u001b[0m\u001b[0;34m[\u001b[0m\u001b[0;36m0\u001b[0m\u001b[0;34m]\u001b[0m\u001b[0;34m\u001b[0m\u001b[0;34m\u001b[0m\u001b[0m\n\u001b[0m\u001b[1;32m     57\u001b[0m \u001b[0;34m\u001b[0m\u001b[0m\n\u001b[1;32m     58\u001b[0m     \u001b[0;34m@\u001b[0m\u001b[0mproperty\u001b[0m\u001b[0;34m\u001b[0m\u001b[0;34m\u001b[0m\u001b[0m\n",
      "\u001b[0;32m/opt/anaconda3/envs/PythonData/lib/python3.9/site-packages/splinter/element_list.py\u001b[0m in \u001b[0;36m__getitem__\u001b[0;34m(self, index)\u001b[0m\n\u001b[1;32m     40\u001b[0m             \u001b[0;32mreturn\u001b[0m \u001b[0mself\u001b[0m\u001b[0;34m.\u001b[0m\u001b[0m_container\u001b[0m\u001b[0;34m[\u001b[0m\u001b[0mindex\u001b[0m\u001b[0;34m]\u001b[0m\u001b[0;34m\u001b[0m\u001b[0;34m\u001b[0m\u001b[0m\n\u001b[1;32m     41\u001b[0m         \u001b[0;32mexcept\u001b[0m \u001b[0mIndexError\u001b[0m\u001b[0;34m:\u001b[0m\u001b[0;34m\u001b[0m\u001b[0;34m\u001b[0m\u001b[0m\n\u001b[0;32m---> 42\u001b[0;31m             raise ElementDoesNotExist(\n\u001b[0m\u001b[1;32m     43\u001b[0m                 u'no elements could be found with {0} \"{1}\"'.format(\n\u001b[1;32m     44\u001b[0m                     \u001b[0mself\u001b[0m\u001b[0;34m.\u001b[0m\u001b[0mfind_by\u001b[0m\u001b[0;34m,\u001b[0m \u001b[0mself\u001b[0m\u001b[0;34m.\u001b[0m\u001b[0mquery\u001b[0m\u001b[0;34m\u001b[0m\u001b[0;34m\u001b[0m\u001b[0m\n",
      "\u001b[0;31mElementDoesNotExist\u001b[0m: no elements could be found with xpath \"//*[@id=\"border\"]/form[3]/div[6]/div[3]/select/option[21]\""
     ]
    }
   ],
   "source": [
    "#license type\n",
    "license_element = browser.find_by_xpath('//*[@id=\"border\"]/form[3]/div[6]/div[3]/select/option[21]').first\n",
    "license_element.click()\n"
   ]
  },
  {
   "cell_type": "code",
   "execution_count": null,
   "id": "2f02a75c",
   "metadata": {},
   "outputs": [],
   "source": [
    "#result 100\n",
    "element = browser.find_option_by_text('100').first.click()\n",
    "#//*[@id=\"resultsPerPage\"]/select"
   ]
  },
  {
   "cell_type": "code",
   "execution_count": 243,
   "id": "461cd302",
   "metadata": {},
   "outputs": [],
   "source": [
    "#submit\n",
    "submit_element=browser.find_by_id('submitButton').click()\n"
   ]
  },
  {
   "cell_type": "code",
   "execution_count": 244,
   "id": "d9adbe62",
   "metadata": {},
   "outputs": [],
   "source": [
    "time.sleep(30)"
   ]
  },
  {
   "cell_type": "code",
   "execution_count": 261,
   "id": "7dfc7426",
   "metadata": {},
   "outputs": [
    {
     "data": {
      "text/html": [
       "<div>\n",
       "<style scoped>\n",
       "    .dataframe tbody tr th:only-of-type {\n",
       "        vertical-align: middle;\n",
       "    }\n",
       "\n",
       "    .dataframe tbody tr th {\n",
       "        vertical-align: top;\n",
       "    }\n",
       "\n",
       "    .dataframe thead th {\n",
       "        text-align: right;\n",
       "    }\n",
       "</style>\n",
       "<table border=\"1\" class=\"dataframe\">\n",
       "  <thead>\n",
       "    <tr style=\"text-align: right;\">\n",
       "      <th></th>\n",
       "      <th>Name</th>\n",
       "      <th>License_number</th>\n",
       "      <th>NPN</th>\n",
       "      <th>City</th>\n",
       "      <th>State</th>\n",
       "      <th>Link</th>\n",
       "    </tr>\n",
       "  </thead>\n",
       "  <tbody>\n",
       "    <tr>\n",
       "      <th>0</th>\n",
       "      <td>KIM, CHLOE MIKYUNG</td>\n",
       "      <td>3365367</td>\n",
       "      <td>19716315</td>\n",
       "      <td>SUWANEE</td>\n",
       "      <td>GA</td>\n",
       "      <td>https://www.sircon.com/ComplianceExpress/Inqui...</td>\n",
       "    </tr>\n",
       "    <tr>\n",
       "      <th>1</th>\n",
       "      <td>KIM, CHOON BOK</td>\n",
       "      <td>2917321</td>\n",
       "      <td>17035754</td>\n",
       "      <td>SUWANEE</td>\n",
       "      <td>GA</td>\n",
       "      <td>https://www.sircon.com/ComplianceExpress/Inqui...</td>\n",
       "    </tr>\n",
       "    <tr>\n",
       "      <th>2</th>\n",
       "      <td>KIM, JANGHUN</td>\n",
       "      <td>3384616</td>\n",
       "      <td>19745722</td>\n",
       "      <td>SUWANEE</td>\n",
       "      <td>GA</td>\n",
       "      <td>https://www.sircon.com/ComplianceExpress/Inqui...</td>\n",
       "    </tr>\n",
       "    <tr>\n",
       "      <th>3</th>\n",
       "      <td>KIM, JIHYUN</td>\n",
       "      <td>3259144</td>\n",
       "      <td>19165752</td>\n",
       "      <td>SUWANEE</td>\n",
       "      <td>GA</td>\n",
       "      <td>https://www.sircon.com/ComplianceExpress/Inqui...</td>\n",
       "    </tr>\n",
       "    <tr>\n",
       "      <th>4</th>\n",
       "      <td>KIM, JINIL</td>\n",
       "      <td>3590274</td>\n",
       "      <td>20619650</td>\n",
       "      <td>SUWANEE</td>\n",
       "      <td>GA</td>\n",
       "      <td>https://www.sircon.com/ComplianceExpress/Inqui...</td>\n",
       "    </tr>\n",
       "  </tbody>\n",
       "</table>\n",
       "</div>"
      ],
      "text/plain": [
       "                 Name License_number       NPN     City State  \\\n",
       "0  KIM, CHLOE MIKYUNG        3365367  19716315  SUWANEE    GA   \n",
       "1      KIM, CHOON BOK        2917321  17035754  SUWANEE    GA   \n",
       "2        KIM, JANGHUN        3384616  19745722  SUWANEE    GA   \n",
       "3         KIM, JIHYUN        3259144  19165752  SUWANEE    GA   \n",
       "4          KIM, JINIL        3590274  20619650  SUWANEE    GA   \n",
       "\n",
       "                                                Link  \n",
       "0  https://www.sircon.com/ComplianceExpress/Inqui...  \n",
       "1  https://www.sircon.com/ComplianceExpress/Inqui...  \n",
       "2  https://www.sircon.com/ComplianceExpress/Inqui...  \n",
       "3  https://www.sircon.com/ComplianceExpress/Inqui...  \n",
       "4  https://www.sircon.com/ComplianceExpress/Inqui...  "
      ]
     },
     "execution_count": 261,
     "metadata": {},
     "output_type": "execute_result"
    }
   ],
   "source": [
    "# Parse the HTML\n",
    "html = browser.html\n",
    "table_soup = soup(html,'html.parser')\n",
    "# even=table_soup.find_all(class_='ResultTableTextEvenRow')\n",
    "# odd=table_soup.find_all(class_='ResultTableTextOddRow')\n",
    "\n",
    "# for i in range(len(even)):\n",
    "#     all_column=even[i].find_all('td', class_='ResultTableTextColumn')\n",
    "#     name=all_column[0].text\n",
    "#     license_num=all_column[1].text\n",
    "#     npn=all_column[5].text\n",
    "#     city=all_column[6].text\n",
    "#     state=all_column[7].text\n",
    "#     name_link = even[i].find('td', class_='ResultTableTextColumn').a.get('href')\n",
    "#     print(name)\n",
    "    \n",
    "elements = table_soup.select('tr[class*=ResultTableText]')    \n",
    "licenser=[]\n",
    "for i in range(len(elements)):\n",
    "    all_column=elements[i].find_all('td', class_='ResultTableTextColumn')\n",
    "    name=all_column[0].text.replace('\\n', '')\n",
    "    license_num=all_column[1].text.replace('\\t', '').replace('\\n', '').strip()\n",
    "    npn=all_column[5].text.replace('\\n', '').strip()\n",
    "    city=all_column[6].text.replace('\\n', '').strip()\n",
    "    state=all_column[7].text.replace('\\n', '').strip()\n",
    "    name_link = elements[i].find('td', class_='ResultTableTextColumn').a.get('href')\n",
    "    abs_link=f'https://www.sircon.com{name_link}'\n",
    "    licenser_dic={}\n",
    "    licenser_dic[\"Name\"] =name\n",
    "    licenser_dic[\"License_number\"] =license_num\n",
    "    licenser_dic[\"NPN\"] =npn\n",
    "    licenser_dic[\"City\"] =city\n",
    "    licenser_dic[\"State\"] =state\n",
    "    licenser_dic[\"Link\"] =abs_link\n",
    "#     for key, value in licenser_dic.items():\n",
    "#         licenser_dic[key] = value.replace('\\n', '')\n",
    "    \n",
    "    licenser.append(licenser_dic)\n",
    "    \n",
    "   \n",
    "a=pd.DataFrame(licenser)    \n",
    "a.head()\n",
    "## Scraping\n",
    "# name = hemi_soup.find('h2', class_='title').text\n",
    "#name_link = table_soup.find('td').a.get('href')\n",
    "#name_link=table_soup.find('td', class_='ResultTableTextColumn').a.get('href')\n",
    "#name_name=table_soup.find_all('td', class_='ResultTableTextColumn')\n",
    "# lic_num = hemi_soup.find('li').a.get('href')\n",
    "# npn = hemi_soup.find('li').a.get('href')\n",
    "# city = hemi_soup.find('li').a.get('href')\n",
    "# state = hemi_soup.find('li').a.get('href')\n",
    "\n",
    "#print(name_link)\n",
    "\n",
    "\n",
    "\n",
    "\n",
    "# # Store findings into a dictionary and append to list\n",
    "# hemispheres = {}\n",
    "# hemispheres['img_url'] = f'https://marshemispheres.com/{img_url}'\n",
    "# hemispheres['title'] = title\n",
    "# hemisphere_image_urls.append(hemispheres)\n",
    "\n",
    "# # Browse back to repeat\n",
    "# browser.back()"
   ]
  },
  {
   "cell_type": "code",
   "execution_count": null,
   "id": "4c5e9028",
   "metadata": {},
   "outputs": [],
   "source": [
    "#final\n",
    "alpa_list=[a,b,c,d,e,f,g,h,i,j,k,l,m,n,o,p,q,r,s,t,u,v,w,x,y,z]\n",
    "licenser=[]\n",
    "for i in alpa_list:\n",
    "    for j in alpa_list:\n",
    "        name_city=i+j\n",
    "        input_element = browser.find_by_name('lastName')\n",
    "        input_element.fill(name_city)\n",
    "        time.sleep(5)\n",
    "        \n",
    "        input_element = browser.find_by_name('city')\n",
    "        input_element.fill(name_city)\n",
    "        \n",
    "        #license type\n",
    "        license_element = browser.find_by_xpath('//*[@id=\"border\"]/form[3]/div[6]/div[3]/select/option[21]').first\n",
    "        license_element.click()\n",
    "        \n",
    "        #result 100\n",
    "        element = browser.find_option_by_text('100').first.click()\n",
    "        #//*[@id=\"resultsPerPage\"]/select\n",
    "        \n",
    "        #submit\n",
    "        submit_element=browser.find_by_id('submitButton').click()\n",
    "        \n",
    "        # Parse the HTML\n",
    "        html = browser.html\n",
    "        table_soup = soup(html,'html.parser')\n",
    "        # even=table_soup.find_all(class_='ResultTableTextEvenRow')\n",
    "        # odd=table_soup.find_all(class_='ResultTableTextOddRow')\n",
    "\n",
    "        # for i in range(len(even)):\n",
    "        #     all_column=even[i].find_all('td', class_='ResultTableTextColumn')\n",
    "        #     name=all_column[0].text\n",
    "        #     license_num=all_column[1].text\n",
    "        #     npn=all_column[5].text\n",
    "        #     city=all_column[6].text\n",
    "        #     state=all_column[7].text\n",
    "        #     name_link = even[i].find('td', class_='ResultTableTextColumn').a.get('href')\n",
    "        #     print(name)\n",
    "    \n",
    "        elements = table_soup.select('tr[class*=ResultTableText]')    \n",
    "        \n",
    "        for i in range(len(elements)):\n",
    "            all_column=elements[i].find_all('td', class_='ResultTableTextColumn')\n",
    "            name=all_column[0].text.replace('\\n', '')\n",
    "            license_num=all_column[1].text.replace('\\t', '').replace('\\n', '').strip()\n",
    "            npn=all_column[5].text.replace('\\n', '').strip()\n",
    "            city=all_column[6].text.replace('\\n', '').strip()\n",
    "            state=all_column[7].text.replace('\\n', '').strip()\n",
    "            name_link = elements[i].find('td', class_='ResultTableTextColumn').a.get('href')\n",
    "            abs_link=f'https://www.sircon.com{name_link}'\n",
    "            licenser_dic={}\n",
    "            licenser_dic[\"Name\"] =name\n",
    "            licenser_dic[\"License_number\"] =license_num\n",
    "            licenser_dic[\"NPN\"] =npn\n",
    "            licenser_dic[\"City\"] =city\n",
    "            licenser_dic[\"State\"] =state\n",
    "            licenser_dic[\"Link\"] =abs_link\n",
    "        #     for key, value in licenser_dic.items():\n",
    "        #         licenser_dic[key] = value.replace('\\n', '')\n",
    "\n",
    "            licenser.append(licenser_dic)\n",
    "\n",
    "licenser_df=pd.DataFrame(licenser)    \n",
    "licenser_df.head()\n",
    "\n",
    "\n",
    "        ## Scraping\n",
    "        # name = hemi_soup.find('h2', class_='title').text\n",
    "        #name_link = table_soup.find('td').a.get('href')\n",
    "        #name_link=table_soup.find('td', class_='ResultTableTextColumn').a.get('href')\n",
    "        #name_name=table_soup.find_all('td', class_='ResultTableTextColumn')\n",
    "        # lic_num = hemi_soup.find('li').a.get('href')\n",
    "        # npn = hemi_soup.find('li').a.get('href')\n",
    "        # city = hemi_soup.find('li').a.get('href')\n",
    "        # state = hemi_soup.find('li').a.get('href')\n",
    "\n",
    "        #print(name_link)\n",
    "\n",
    "\n",
    "\n",
    "\n",
    "        # # Store findings into a dictionary and append to list\n",
    "        # hemispheres = {}\n",
    "        # hemispheres['img_url'] = f'https://marshemispheres.com/{img_url}'\n",
    "        # hemispheres['title'] = title\n",
    "        # hemisphere_image_urls.append(hemispheres)\n",
    "\n",
    "        # # Browse back to repeat\n",
    "        # browser.back()\n",
    "        "
   ]
  },
  {
   "cell_type": "code",
   "execution_count": null,
   "id": "974f460f",
   "metadata": {},
   "outputs": [],
   "source": []
  },
  {
   "cell_type": "code",
   "execution_count": null,
   "id": "1e115ee9",
   "metadata": {},
   "outputs": [],
   "source": []
  },
  {
   "cell_type": "code",
   "execution_count": null,
   "id": "0b57a7cb",
   "metadata": {},
   "outputs": [],
   "source": []
  },
  {
   "cell_type": "code",
   "execution_count": null,
   "id": "cc9ebc67",
   "metadata": {},
   "outputs": [],
   "source": []
  },
  {
   "cell_type": "code",
   "execution_count": null,
   "id": "89a8e9fa",
   "metadata": {},
   "outputs": [],
   "source": []
  },
  {
   "cell_type": "code",
   "execution_count": 46,
   "id": "3209d2e6",
   "metadata": {},
   "outputs": [
    {
     "data": {
      "text/plain": [
       "'The twin spacecraft, the first of their kind to fly into deep space, earn a Laureate from Aviation Week & Space Technology.'"
      ]
     },
     "execution_count": 46,
     "metadata": {},
     "output_type": "execute_result"
    }
   ],
   "source": [
    "# Use the parent element to find the paragraph text\n",
    "news_p = tit_par_elem.find('div', class_='article_teaser_body').get_text()\n",
    "news_p"
   ]
  },
  {
   "cell_type": "code",
   "execution_count": null,
   "id": "a9ac9da3",
   "metadata": {},
   "outputs": [],
   "source": []
  },
  {
   "cell_type": "code",
   "execution_count": null,
   "id": "dddb1e19",
   "metadata": {},
   "outputs": [],
   "source": []
  },
  {
   "cell_type": "code",
   "execution_count": null,
   "id": "d233d5df",
   "metadata": {},
   "outputs": [],
   "source": []
  },
  {
   "cell_type": "markdown",
   "id": "9ecee972",
   "metadata": {},
   "source": [
    "## JPL Mars Space Images - Featured Image"
   ]
  },
  {
   "cell_type": "code",
   "execution_count": 47,
   "id": "aeb3b90d",
   "metadata": {},
   "outputs": [],
   "source": [
    "# Visit URL\n",
    "url = 'https://spaceimages-mars.com'\n",
    "browser.visit(url)"
   ]
  },
  {
   "cell_type": "code",
   "execution_count": 48,
   "id": "f8c2fc8e",
   "metadata": {},
   "outputs": [],
   "source": [
    "# Find and click the full image button\n",
    "state_image_elem = browser.find_by_tag('button')[1]\n",
    "state_image_elem.click()\n",
    "type_image_elem = browser.find_by_tag('button')[1]\n",
    "type_image_elem.click()\n",
    "\n"
   ]
  },
  {
   "cell_type": "code",
   "execution_count": 49,
   "id": "33f49412",
   "metadata": {},
   "outputs": [],
   "source": [
    "# Parsing\n",
    "html = browser.html\n",
    "img_soup = soup(html, 'html.parser')"
   ]
  },
  {
   "cell_type": "code",
   "execution_count": 50,
   "id": "ff614152",
   "metadata": {},
   "outputs": [
    {
     "data": {
      "text/plain": [
       "'image/featured/mars1.jpg'"
      ]
     },
     "execution_count": 50,
     "metadata": {},
     "output_type": "execute_result"
    }
   ],
   "source": [
    "# find the relative url\n",
    "img_url_rel = img_soup.find('img', class_='fancybox-image').get('src')\n",
    "img_url_rel"
   ]
  },
  {
   "cell_type": "code",
   "execution_count": 51,
   "id": "f9f3a222",
   "metadata": {},
   "outputs": [
    {
     "data": {
      "text/plain": [
       "'https://spaceimages-mars.com/image/featured/mars1.jpg'"
      ]
     },
     "execution_count": 51,
     "metadata": {},
     "output_type": "execute_result"
    }
   ],
   "source": [
    "# Create absolute url\n",
    "img_url = f'https://spaceimages-mars.com/{img_url_rel}'\n",
    "img_url"
   ]
  },
  {
   "cell_type": "markdown",
   "id": "4327beae",
   "metadata": {},
   "source": [
    "## Mars Facts"
   ]
  },
  {
   "cell_type": "code",
   "execution_count": 52,
   "id": "9bb07693",
   "metadata": {},
   "outputs": [
    {
     "data": {
      "text/html": [
       "<div>\n",
       "<style scoped>\n",
       "    .dataframe tbody tr th:only-of-type {\n",
       "        vertical-align: middle;\n",
       "    }\n",
       "\n",
       "    .dataframe tbody tr th {\n",
       "        vertical-align: top;\n",
       "    }\n",
       "\n",
       "    .dataframe thead th {\n",
       "        text-align: right;\n",
       "    }\n",
       "</style>\n",
       "<table border=\"1\" class=\"dataframe\">\n",
       "  <thead>\n",
       "    <tr style=\"text-align: right;\">\n",
       "      <th></th>\n",
       "      <th>Mars</th>\n",
       "      <th>Earth</th>\n",
       "    </tr>\n",
       "    <tr>\n",
       "      <th>Description</th>\n",
       "      <th></th>\n",
       "      <th></th>\n",
       "    </tr>\n",
       "  </thead>\n",
       "  <tbody>\n",
       "    <tr>\n",
       "      <th>Mars - Earth Comparison</th>\n",
       "      <td>Mars</td>\n",
       "      <td>Earth</td>\n",
       "    </tr>\n",
       "    <tr>\n",
       "      <th>Diameter:</th>\n",
       "      <td>6,779 km</td>\n",
       "      <td>12,742 km</td>\n",
       "    </tr>\n",
       "    <tr>\n",
       "      <th>Mass:</th>\n",
       "      <td>6.39 × 10^23 kg</td>\n",
       "      <td>5.97 × 10^24 kg</td>\n",
       "    </tr>\n",
       "    <tr>\n",
       "      <th>Moons:</th>\n",
       "      <td>2</td>\n",
       "      <td>1</td>\n",
       "    </tr>\n",
       "    <tr>\n",
       "      <th>Distance from Sun:</th>\n",
       "      <td>227,943,824 km</td>\n",
       "      <td>149,598,262 km</td>\n",
       "    </tr>\n",
       "    <tr>\n",
       "      <th>Length of Year:</th>\n",
       "      <td>687 Earth days</td>\n",
       "      <td>365.24 days</td>\n",
       "    </tr>\n",
       "    <tr>\n",
       "      <th>Temperature:</th>\n",
       "      <td>-87 to -5 °C</td>\n",
       "      <td>-88 to 58°C</td>\n",
       "    </tr>\n",
       "  </tbody>\n",
       "</table>\n",
       "</div>"
      ],
      "text/plain": [
       "                                    Mars            Earth\n",
       "Description                                              \n",
       "Mars - Earth Comparison             Mars            Earth\n",
       "Diameter:                       6,779 km        12,742 km\n",
       "Mass:                    6.39 × 10^23 kg  5.97 × 10^24 kg\n",
       "Moons:                                 2                1\n",
       "Distance from Sun:        227,943,824 km   149,598,262 km\n",
       "Length of Year:           687 Earth days      365.24 days\n",
       "Temperature:                -87 to -5 °C      -88 to 58°C"
      ]
     },
     "execution_count": 52,
     "metadata": {},
     "output_type": "execute_result"
    }
   ],
   "source": [
    "# Vist URL and use Pandas to scrape the table containing facts  about the planet including Diameter, Mass, etc.\n",
    "df = pd.read_html('https://galaxyfacts-mars.com')[0]\n",
    "df.columns=['Description', 'Mars', 'Earth']\n",
    "df.set_index('Description', inplace=True)\n",
    "df"
   ]
  },
  {
   "cell_type": "code",
   "execution_count": 53,
   "id": "a1cca417",
   "metadata": {},
   "outputs": [
    {
     "data": {
      "text/plain": [
       "'<table border=\"1\" class=\"dataframe\">\\n  <thead>\\n    <tr style=\"text-align: right;\">\\n      <th></th>\\n      <th>Mars</th>\\n      <th>Earth</th>\\n    </tr>\\n    <tr>\\n      <th>Description</th>\\n      <th></th>\\n      <th></th>\\n    </tr>\\n  </thead>\\n  <tbody>\\n    <tr>\\n      <th>Mars - Earth Comparison</th>\\n      <td>Mars</td>\\n      <td>Earth</td>\\n    </tr>\\n    <tr>\\n      <th>Diameter:</th>\\n      <td>6,779 km</td>\\n      <td>12,742 km</td>\\n    </tr>\\n    <tr>\\n      <th>Mass:</th>\\n      <td>6.39 × 10^23 kg</td>\\n      <td>5.97 × 10^24 kg</td>\\n    </tr>\\n    <tr>\\n      <th>Moons:</th>\\n      <td>2</td>\\n      <td>1</td>\\n    </tr>\\n    <tr>\\n      <th>Distance from Sun:</th>\\n      <td>227,943,824 km</td>\\n      <td>149,598,262 km</td>\\n    </tr>\\n    <tr>\\n      <th>Length of Year:</th>\\n      <td>687 Earth days</td>\\n      <td>365.24 days</td>\\n    </tr>\\n    <tr>\\n      <th>Temperature:</th>\\n      <td>-87 to -5 °C</td>\\n      <td>-88 to 58°C</td>\\n    </tr>\\n  </tbody>\\n</table>'"
      ]
     },
     "execution_count": 53,
     "metadata": {},
     "output_type": "execute_result"
    }
   ],
   "source": [
    "# convert the data to a HTML table string\n",
    "df.to_html()"
   ]
  },
  {
   "cell_type": "markdown",
   "id": "46b9f35e",
   "metadata": {},
   "source": [
    "## Mars Hemispheres"
   ]
  },
  {
   "cell_type": "code",
   "execution_count": 54,
   "id": "218a146d",
   "metadata": {},
   "outputs": [],
   "source": [
    "# Visit the marshemispheres site\n",
    "url = 'https://marshemispheres.com/'\n",
    "browser.visit(url)"
   ]
  },
  {
   "cell_type": "code",
   "execution_count": 56,
   "id": "1486aca5",
   "metadata": {},
   "outputs": [],
   "source": [
    "# Create a list to hold the images and titles.\n",
    "hemisphere_image_urls = []\n",
    "\n",
    "# Retrieve the image urls and titles for each hemisphere.\n",
    "for i in range(4):\n",
    "    # Browse through each article\n",
    "    browser.links.find_by_partial_text('Hemisphere')[i].click()\n",
    "    \n",
    "    # Parse the HTML\n",
    "    html = browser.html\n",
    "    hemi_soup = soup(html,'html.parser')\n",
    "    \n",
    "    # Scraping\n",
    "    title = hemi_soup.find('h2', class_='title').text\n",
    "    img_url = hemi_soup.find('li').a.get('href')\n",
    "    \n",
    "    # Store findings into a dictionary and append to list\n",
    "    hemispheres = {}\n",
    "    hemispheres['img_url'] = f'https://marshemispheres.com/{img_url}'\n",
    "    hemispheres['title'] = title\n",
    "    hemisphere_image_urls.append(hemispheres)\n",
    "    \n",
    "    # Browse back to repeat\n",
    "    browser.back()\n"
   ]
  },
  {
   "cell_type": "code",
   "execution_count": 57,
   "id": "ec9ff179",
   "metadata": {},
   "outputs": [],
   "source": [
    "# Quit browser\n",
    "browser.quit()"
   ]
  },
  {
   "cell_type": "code",
   "execution_count": 58,
   "id": "7924989a",
   "metadata": {},
   "outputs": [
    {
     "data": {
      "text/plain": [
       "[{'img_url': 'https://marshemispheres.com/images/full.jpg',\n",
       "  'title': 'Cerberus Hemisphere Enhanced'},\n",
       " {'img_url': 'https://marshemispheres.com/images/schiaparelli_enhanced-full.jpg',\n",
       "  'title': 'Schiaparelli Hemisphere Enhanced'},\n",
       " {'img_url': 'https://marshemispheres.com/images/syrtis_major_enhanced-full.jpg',\n",
       "  'title': 'Syrtis Major Hemisphere Enhanced'},\n",
       " {'img_url': 'https://marshemispheres.com/images/valles_marineris_enhanced-full.jpg',\n",
       "  'title': 'Valles Marineris Hemisphere Enhanced'}]"
      ]
     },
     "execution_count": 58,
     "metadata": {},
     "output_type": "execute_result"
    }
   ],
   "source": [
    "# Print the list.\n",
    "hemisphere_image_urls"
   ]
  },
  {
   "cell_type": "code",
   "execution_count": null,
   "id": "3bb62145",
   "metadata": {},
   "outputs": [],
   "source": []
  }
 ],
 "metadata": {
  "kernelspec": {
   "display_name": "PythonData",
   "language": "python",
   "name": "pythondata"
  },
  "language_info": {
   "codemirror_mode": {
    "name": "ipython",
    "version": 3
   },
   "file_extension": ".py",
   "mimetype": "text/x-python",
   "name": "python",
   "nbconvert_exporter": "python",
   "pygments_lexer": "ipython3",
   "version": "3.9.15"
  }
 },
 "nbformat": 4,
 "nbformat_minor": 5
}
